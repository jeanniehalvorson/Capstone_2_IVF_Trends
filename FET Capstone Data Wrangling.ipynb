{
 "cells": [
  {
   "cell_type": "code",
   "execution_count": 60,
   "id": "c15e4363-acb2-446f-a449-2b26ab8c0c8c",
   "metadata": {},
   "outputs": [
    {
     "name": "stdout",
     "output_type": "stream",
     "text": [
      "   EMBRYO AGE (DAY)             OPERAMORPHOUS TESEION DAMORPHOUS TESEE  AGE  \\\n",
      "0                 4  Intracytoplasmic Sperm Injection       2018-05-05   42   \n",
      "1                 4  Intracytoplasmic Sperm Injection       2018-06-02   44   \n",
      "2                 4  Intracytoplasmic Sperm Injection       2018-05-05   42   \n",
      "3                 4  Intracytoplasmic Sperm Injection       2018-06-01   43   \n",
      "4                 4  Intracytoplasmic Sperm Injection       2018-08-10   48   \n",
      "\n",
      "   SPOUSE AGE INFERTILITY REASON SPERM EVALUATION  OOCYTE COUNT  M2 OOCYTE  \\\n",
      "0          46                NaN              Age             5          4   \n",
      "1          40                NaN              Age             1          1   \n",
      "2          39                NaN              Age             9          4   \n",
      "3          41                NaN              Age             2          1   \n",
      "4          36                NaN              Age             1          1   \n",
      "\n",
      "   2 PN  TR. DAY  TR. ED. EMB.  PREGNANCY  \n",
      "0     3        4             2          1  \n",
      "1     1        4             1          1  \n",
      "2     4        4             2          0  \n",
      "3     1        4             1          0  \n",
      "4     1        4             1          0  \n"
     ]
    }
   ],
   "source": [
    "import os\n",
    "import pandas as pd\n",
    "import numpy as np\n",
    "import seaborn as sns\n",
    "import matplotlib.pyplot as plt\n",
    "import warnings\n",
    "\n",
    "df = pd.read_excel('FET_Data.xls') \n",
    "df.rename(columns={'INF. REASON': 'Infertility Reason', 'SPERM' : 'SPERM EVALUATION'}, inplace=True)\n",
    "df.columns = df.columns.str.upper()\n",
    "df['DAMORPHOUS TESEE'] = pd.to_datetime(df['DAMORPHOUS TESEE'], errors='coerce').dt.date\n",
    "print(df.head())\n"
   ]
  },
  {
   "cell_type": "code",
   "execution_count": 61,
   "id": "f06af1f7-9e46-4604-aab7-f1b66634c4f5",
   "metadata": {},
   "outputs": [
    {
     "name": "stdout",
     "output_type": "stream",
     "text": [
      "<class 'pandas.core.frame.DataFrame'>\n",
      "RangeIndex: 3678 entries, 0 to 3677\n",
      "Data columns (total 13 columns):\n",
      " #   Column                 Non-Null Count  Dtype \n",
      "---  ------                 --------------  ----- \n",
      " 0   EMBRYO AGE (DAY)       3678 non-null   int64 \n",
      " 1   OPERAMORPHOUS TESEION  3677 non-null   object\n",
      " 2   DAMORPHOUS TESEE       3664 non-null   object\n",
      " 3   AGE                    3678 non-null   int64 \n",
      " 4   SPOUSE AGE             3678 non-null   int64 \n",
      " 5   INFERTILITY REASON     3558 non-null   object\n",
      " 6   SPERM EVALUATION       3675 non-null   object\n",
      " 7   OOCYTE COUNT           3678 non-null   int64 \n",
      " 8   M2 OOCYTE              3678 non-null   int64 \n",
      " 9   2 PN                   3678 non-null   int64 \n",
      " 10  TR. DAY                3678 non-null   int64 \n",
      " 11  TR. ED. EMB.           3678 non-null   int64 \n",
      " 12  PREGNANCY              3678 non-null   int64 \n",
      "dtypes: int64(9), object(4)\n",
      "memory usage: 373.7+ KB\n",
      "None\n"
     ]
    }
   ],
   "source": [
    "print(df.info())\n"
   ]
  },
  {
   "cell_type": "code",
   "execution_count": 62,
   "id": "5eebe9f0-98d1-4f0b-b5a7-b3a9123c06bd",
   "metadata": {},
   "outputs": [
    {
     "name": "stdout",
     "output_type": "stream",
     "text": [
      "       EMBRYO AGE (DAY)          AGE   SPOUSE AGE  OOCYTE COUNT    M2 OOCYTE  \\\n",
      "count       3678.000000  3678.000000  3678.000000   3678.000000  3678.000000   \n",
      "mean           4.669114    33.504350    36.890973     10.452692     8.143828   \n",
      "std            0.470596     5.861641     6.492381      5.754691     4.695542   \n",
      "min            4.000000    17.000000    19.000000      1.000000     1.000000   \n",
      "25%            4.000000    29.000000    32.000000      6.000000     5.000000   \n",
      "50%            5.000000    34.000000    36.000000      9.000000     7.000000   \n",
      "75%            5.000000    38.000000    41.000000     14.000000    11.000000   \n",
      "max            5.000000    52.000000    72.000000     45.000000    37.000000   \n",
      "\n",
      "              2 PN      TR. DAY  TR. ED. EMB.    PREGNANCY  \n",
      "count  3678.000000  3678.000000   3678.000000  3678.000000  \n",
      "mean      6.893692     4.669114      1.520120     0.600326  \n",
      "std       3.975429     0.470596      0.507762     0.489898  \n",
      "min       1.000000     4.000000      1.000000     0.000000  \n",
      "25%       4.000000     4.000000      1.000000     0.000000  \n",
      "50%       6.000000     5.000000      2.000000     1.000000  \n",
      "75%       9.000000     5.000000      2.000000     1.000000  \n",
      "max      34.000000     5.000000      5.000000     1.000000  \n"
     ]
    }
   ],
   "source": [
    "print(df.describe())"
   ]
  },
  {
   "cell_type": "code",
   "execution_count": 65,
   "id": "80fa055a-c5a1-4e71-8fe4-9cc3249f59fc",
   "metadata": {},
   "outputs": [
    {
     "name": "stdout",
     "output_type": "stream",
     "text": [
      "EMBRYO AGE (DAY)           0\n",
      "OPERAMORPHOUS TESEION      1\n",
      "DAMORPHOUS TESEE          14\n",
      "AGE                        0\n",
      "SPOUSE AGE                 0\n",
      "INFERTILITY REASON       120\n",
      "SPERM EVALUATION           3\n",
      "OOCYTE COUNT               0\n",
      "M2 OOCYTE                  0\n",
      "2 PN                       0\n",
      "TR. DAY                    0\n",
      "TR. ED. EMB.               0\n",
      "PREGNANCY                  0\n",
      "dtype: int64\n"
     ]
    }
   ],
   "source": [
    "print(df.isnull().sum())\n"
   ]
  },
  {
   "cell_type": "code",
   "execution_count": 67,
   "id": "aec382ba-a734-4022-8992-0a6835371f8a",
   "metadata": {},
   "outputs": [
    {
     "name": "stdout",
     "output_type": "stream",
     "text": [
      "Columns with null percentage under 5%:\n",
      "EMBRYO AGE (DAY)         0.000000\n",
      "OPERAMORPHOUS TESEION    0.027189\n",
      "DAMORPHOUS TESEE         0.380642\n",
      "AGE                      0.000000\n",
      "SPOUSE AGE               0.000000\n",
      "INFERTILITY REASON       3.262643\n",
      "SPERM EVALUATION         0.081566\n",
      "OOCYTE COUNT             0.000000\n",
      "M2 OOCYTE                0.000000\n",
      "2 PN                     0.000000\n",
      "TR. DAY                  0.000000\n",
      "TR. ED. EMB.             0.000000\n",
      "PREGNANCY                0.000000\n",
      "dtype: float64\n"
     ]
    }
   ],
   "source": [
    "null_counts = df.isnull().sum()\n",
    "total_rows = len(df)\n",
    "null_percentage = (null_counts / total_rows) * 100\n",
    "\n",
    "under_threshold_columns = null_percentage[null_percentage < 5]\n",
    "\n",
    "print(\"Columns with null percentage under 5%:\")\n",
    "print(under_threshold_columns)\n"
   ]
  },
  {
   "cell_type": "code",
   "execution_count": 69,
   "id": "168fe262-3d5a-45f6-9319-6f23f60a361a",
   "metadata": {},
   "outputs": [
    {
     "name": "stdout",
     "output_type": "stream",
     "text": [
      "EMBRYO AGE (DAY)         0\n",
      "OPERAMORPHOUS TESEION    0\n",
      "DAMORPHOUS TESEE         0\n",
      "AGE                      0\n",
      "SPOUSE AGE               0\n",
      "INFERTILITY REASON       0\n",
      "SPERM EVALUATION         0\n",
      "OOCYTE COUNT             0\n",
      "M2 OOCYTE                0\n",
      "2 PN                     0\n",
      "TR. DAY                  0\n",
      "TR. ED. EMB.             0\n",
      "PREGNANCY                0\n",
      "dtype: int64\n"
     ]
    }
   ],
   "source": [
    "cleaned_df = df.dropna()\n",
    "print(cleaned_df.isnull().sum())\n"
   ]
  },
  {
   "cell_type": "code",
   "execution_count": 70,
   "id": "b31cd6ed-46f9-42a4-ba69-9edc826ef6ba",
   "metadata": {},
   "outputs": [
    {
     "name": "stderr",
     "output_type": "stream",
     "text": [
      "/var/folders/07/ch6l1hqx33j6h_3ck2cgrv3h0000gn/T/ipykernel_65455/986456825.py:1: FutureWarning: use_inf_as_na option is deprecated and will be removed in a future version. Convert inf values to NaN before operating instead.\n",
      "  with pd.option_context('mode.use_inf_as_na', True):\n",
      "/opt/anaconda3/lib/python3.11/site-packages/seaborn/_oldcore.py:1119: FutureWarning: use_inf_as_na option is deprecated and will be removed in a future version. Convert inf values to NaN before operating instead.\n",
      "  with pd.option_context('mode.use_inf_as_na', True):\n"
     ]
    },
    {
     "data": {
      "image/png": "[encoded data removed]",
      "text/plain": [
       "<Figure size 640x480 with 1 Axes>"
      ]
     },
     "metadata": {},
     "output_type": "display_data"
    }
   ],
   "source": [
    "with pd.option_context('mode.use_inf_as_na', True):\n",
    "    sns.histplot(data=cleaned_df, x='AGE', bins=20, kde=True)\n",
    "    plt.show()"
   ]
  },
  {
   "cell_type": "code",
   "execution_count": 71,
   "id": "91df18be-9a59-4f38-a1e0-49ca780b1e7e",
   "metadata": {},
   "outputs": [
    {
     "data": {
      "text/plain": [
       "Index(['EMBRYO AGE (DAY)', 'OPERAMORPHOUS TESEION', 'DAMORPHOUS TESEE', 'AGE',\n",
       "       'SPOUSE AGE', 'INFERTILITY REASON', 'SPERM EVALUATION', 'OOCYTE COUNT',\n",
       "       'M2 OOCYTE', '2 PN', 'TR. DAY', 'TR. ED. EMB.', 'PREGNANCY'],\n",
       "      dtype='object')"
      ]
     },
     "execution_count": 71,
     "metadata": {},
     "output_type": "execute_result"
    }
   ],
   "source": [
    "cleaned_df.columns"
   ]
  },
  {
   "cell_type": "code",
   "execution_count": 73,
   "id": "1b42ddb3-c489-4b13-9355-166aff1061c5",
   "metadata": {},
   "outputs": [
    {
     "name": "stdout",
     "output_type": "stream",
     "text": [
      "count    3542.000000\n",
      "mean        3.396951\n",
      "std         4.969773\n",
      "min       -22.000000\n",
      "25%         0.000000\n",
      "50%         3.000000\n",
      "75%         6.000000\n",
      "max        32.000000\n",
      "Name: AGE_DIFFERENCE, dtype: float64\n"
     ]
    }
   ],
   "source": [
    "cleaned_df.loc[:, 'AGE_DIFFERENCE'] = cleaned_df['SPOUSE AGE'] - cleaned_df['AGE']\n",
    "print(cleaned_df['AGE_DIFFERENCE'].describe())\n"
   ]
  },
  {
   "cell_type": "code",
   "execution_count": 75,
   "id": "dae2cbba-c8c8-4042-aa84-b439158278ec",
   "metadata": {},
   "outputs": [],
   "source": [
    "cleaned_df = cleaned_df.copy()\n",
    "\n",
    "cleaned_df['SPOUSE AGE_log'] = np.log(cleaned_df['SPOUSE AGE'])\n",
    "\n",
    "mean_age = cleaned_df['SPOUSE AGE'].mean()\n",
    "std_age = cleaned_df['SPOUSE AGE'].std()\n",
    "cleaned_df['SPOUSE AGE_z_score'] = (cleaned_df['SPOUSE AGE'] - mean_age) / std_age\n",
    "outliers = cleaned_df[np.abs(cleaned_df['SPOUSE AGE_z_score']) > 3]\n",
    "cleaned_df.loc[cleaned_df['SPOUSE AGE'] < 0, 'SPOUSE AGE'] = 0\n"
   ]
  },
  {
   "cell_type": "code",
   "execution_count": 78,
   "id": "652583df-ee43-4652-83de-3ab6d043b778",
   "metadata": {},
   "outputs": [
    {
     "name": "stdout",
     "output_type": "stream",
     "text": [
      "Cleaned data saved to 'cleaned_data.csv'.\n"
     ]
    }
   ],
   "source": [
    "output_csv_path = 'cleaned_data.csv'\n",
    "cleaned_df.to_csv(output_csv_path, index=False)\n",
    "print(f\"Cleaned data saved to '{output_csv_path}'.\")"
   ]
  },
  {
   "cell_type": "code",
   "execution_count": 79,
   "id": "7daa8eee-3e80-436b-b84a-e2db7f30c9e4",
   "metadata": {},
   "outputs": [
    {
     "data": {
      "text/html": [
       "<div>\n",
       "<style scoped>\n",
       "    .dataframe tbody tr th:only-of-type {\n",
       "        vertical-align: middle;\n",
       "    }\n",
       "\n",
       "    .dataframe tbody tr th {\n",
       "        vertical-align: top;\n",
       "    }\n",
       "\n",
       "    .dataframe thead th {\n",
       "        text-align: right;\n",
       "    }\n",
       "</style>\n",
       "<table border=\"1\" class=\"dataframe\">\n",
       "  <thead>\n",
       "    <tr style=\"text-align: right;\">\n",
       "      <th></th>\n",
       "      <th>EMBRYO AGE (DAY)</th>\n",
       "      <th>OPERAMORPHOUS TESEION</th>\n",
       "      <th>DAMORPHOUS TESEE</th>\n",
       "      <th>AGE</th>\n",
       "      <th>SPOUSE AGE</th>\n",
       "      <th>INFERTILITY REASON</th>\n",
       "      <th>SPERM EVALUATION</th>\n",
       "      <th>OOCYTE COUNT</th>\n",
       "      <th>M2 OOCYTE</th>\n",
       "      <th>2 PN</th>\n",
       "      <th>TR. DAY</th>\n",
       "      <th>TR. ED. EMB.</th>\n",
       "      <th>PREGNANCY</th>\n",
       "      <th>AGE_DIFFERENCE</th>\n",
       "      <th>SPOUSE AGE_log</th>\n",
       "      <th>SPOUSE AGE_z_score</th>\n",
       "    </tr>\n",
       "  </thead>\n",
       "  <tbody>\n",
       "    <tr>\n",
       "      <th>5</th>\n",
       "      <td>4</td>\n",
       "      <td>Intracytoplasmic Sperm Injection</td>\n",
       "      <td>2019-01-11</td>\n",
       "      <td>44</td>\n",
       "      <td>51</td>\n",
       "      <td>Age</td>\n",
       "      <td>Amorphous TESE</td>\n",
       "      <td>8</td>\n",
       "      <td>5</td>\n",
       "      <td>3</td>\n",
       "      <td>4</td>\n",
       "      <td>2</td>\n",
       "      <td>0</td>\n",
       "      <td>7</td>\n",
       "      <td>3.931826</td>\n",
       "      <td>2.173961</td>\n",
       "    </tr>\n",
       "    <tr>\n",
       "      <th>6</th>\n",
       "      <td>4</td>\n",
       "      <td>Intracytoplasmic Sperm Injection</td>\n",
       "      <td>2019-01-11</td>\n",
       "      <td>44</td>\n",
       "      <td>51</td>\n",
       "      <td>Age</td>\n",
       "      <td>Amorphous TESE</td>\n",
       "      <td>8</td>\n",
       "      <td>5</td>\n",
       "      <td>3</td>\n",
       "      <td>4</td>\n",
       "      <td>2</td>\n",
       "      <td>0</td>\n",
       "      <td>7</td>\n",
       "      <td>3.931826</td>\n",
       "      <td>2.173961</td>\n",
       "    </tr>\n",
       "    <tr>\n",
       "      <th>7</th>\n",
       "      <td>4</td>\n",
       "      <td>TESE</td>\n",
       "      <td>2014-06-24</td>\n",
       "      <td>28</td>\n",
       "      <td>28</td>\n",
       "      <td>Azoospermia</td>\n",
       "      <td>Amorphous TESE</td>\n",
       "      <td>16</td>\n",
       "      <td>13</td>\n",
       "      <td>13</td>\n",
       "      <td>4</td>\n",
       "      <td>2</td>\n",
       "      <td>0</td>\n",
       "      <td>0</td>\n",
       "      <td>3.332205</td>\n",
       "      <td>-1.367055</td>\n",
       "    </tr>\n",
       "    <tr>\n",
       "      <th>8</th>\n",
       "      <td>4</td>\n",
       "      <td>Intracytoplasmic Sperm Injection</td>\n",
       "      <td>2014-07-05</td>\n",
       "      <td>30</td>\n",
       "      <td>38</td>\n",
       "      <td>Endometrioma + Male</td>\n",
       "      <td>Amorphous TESE</td>\n",
       "      <td>3</td>\n",
       "      <td>3</td>\n",
       "      <td>3</td>\n",
       "      <td>4</td>\n",
       "      <td>2</td>\n",
       "      <td>0</td>\n",
       "      <td>8</td>\n",
       "      <td>3.637586</td>\n",
       "      <td>0.172517</td>\n",
       "    </tr>\n",
       "    <tr>\n",
       "      <th>9</th>\n",
       "      <td>4</td>\n",
       "      <td>Intracytoplasmic Sperm Injection</td>\n",
       "      <td>2016-11-15</td>\n",
       "      <td>32</td>\n",
       "      <td>31</td>\n",
       "      <td>Male</td>\n",
       "      <td>Amorphous TESE</td>\n",
       "      <td>23</td>\n",
       "      <td>22</td>\n",
       "      <td>17</td>\n",
       "      <td>4</td>\n",
       "      <td>2</td>\n",
       "      <td>1</td>\n",
       "      <td>-1</td>\n",
       "      <td>3.433987</td>\n",
       "      <td>-0.905183</td>\n",
       "    </tr>\n",
       "  </tbody>\n",
       "</table>\n",
       "</div>"
      ],
      "text/plain": [
       "   EMBRYO AGE (DAY)             OPERAMORPHOUS TESEION DAMORPHOUS TESEE  AGE  \\\n",
       "5                 4  Intracytoplasmic Sperm Injection       2019-01-11   44   \n",
       "6                 4  Intracytoplasmic Sperm Injection       2019-01-11   44   \n",
       "7                 4                              TESE       2014-06-24   28   \n",
       "8                 4  Intracytoplasmic Sperm Injection       2014-07-05   30   \n",
       "9                 4  Intracytoplasmic Sperm Injection       2016-11-15   32   \n",
       "\n",
       "   SPOUSE AGE   INFERTILITY REASON SPERM EVALUATION  OOCYTE COUNT  M2 OOCYTE  \\\n",
       "5          51                  Age   Amorphous TESE             8          5   \n",
       "6          51                  Age   Amorphous TESE             8          5   \n",
       "7          28          Azoospermia   Amorphous TESE            16         13   \n",
       "8          38  Endometrioma + Male   Amorphous TESE             3          3   \n",
       "9          31                 Male   Amorphous TESE            23         22   \n",
       "\n",
       "   2 PN  TR. DAY  TR. ED. EMB.  PREGNANCY  AGE_DIFFERENCE  SPOUSE AGE_log  \\\n",
       "5     3        4             2          0               7        3.931826   \n",
       "6     3        4             2          0               7        3.931826   \n",
       "7    13        4             2          0               0        3.332205   \n",
       "8     3        4             2          0               8        3.637586   \n",
       "9    17        4             2          1              -1        3.433987   \n",
       "\n",
       "   SPOUSE AGE_z_score  \n",
       "5            2.173961  \n",
       "6            2.173961  \n",
       "7           -1.367055  \n",
       "8            0.172517  \n",
       "9           -0.905183  "
      ]
     },
     "execution_count": 79,
     "metadata": {},
     "output_type": "execute_result"
    }
   ],
   "source": [
    "cleaned_df.head()"
   ]
  },
  {
   "cell_type": "code",
   "execution_count": null,
   "id": "d64a672f-14a8-48ea-91e9-d7154a07aa31",
   "metadata": {},
   "outputs": [],
   "source": []
  }
 ],
 "metadata": {
  "kernelspec": {
   "display_name": "firstEnv",
   "language": "python",
   "name": "firstenv"
  },
  "language_info": {
   "codemirror_mode": {
    "name": "ipython",
    "version": 3
   },
   "file_extension": ".py",
   "mimetype": "text/x-python",
   "name": "python",
   "nbconvert_exporter": "python",
   "pygments_lexer": "ipython3",
   "version": "3.11.7"
  }
 },
 "nbformat": 4,
 "nbformat_minor": 5
}
